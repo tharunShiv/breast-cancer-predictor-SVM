{
 "cells": [
  {
   "cell_type": "markdown",
   "metadata": {},
   "source": [
    "\n",
    "# Support Vector Machines with Python\n",
    "\n",
    "\n",
    "\n",
    "## Import Libraries"
   ]
  },
  {
   "cell_type": "code",
   "execution_count": 2,
   "metadata": {
    "collapsed": false
   },
   "outputs": [],
   "source": [
    "import pandas as pd\n",
    "import numpy as np\n",
    "import matplotlib.pyplot as plt\n",
    "\n",
    "%matplotlib inline"
   ]
  },
  {
   "cell_type": "markdown",
   "metadata": {},
   "source": [
    "## Get the Data\n",
    "\n",
    "We'll use the built in breast cancer dataset from Scikit Learn. We can get with the load function:"
   ]
  },
  {
   "cell_type": "code",
   "execution_count": 3,
   "metadata": {
    "collapsed": true
   },
   "outputs": [],
   "source": [
    "from sklearn.datasets import load_breast_cancer"
   ]
  },
  {
   "cell_type": "code",
   "execution_count": 4,
   "metadata": {
    "collapsed": true
   },
   "outputs": [],
   "source": [
    "cancer = load_breast_cancer()"
   ]
  },
  {
   "cell_type": "markdown",
   "metadata": {},
   "source": [
    "The data set is presented in a dictionary form:"
   ]
  },
  {
   "cell_type": "code",
   "execution_count": 5,
   "metadata": {
    "collapsed": false
   },
   "outputs": [
    {
     "data": {
      "text/plain": [
       "dict_keys(['feature_names', 'DESCR', 'target', 'target_names', 'data'])"
      ]
     },
     "execution_count": 5,
     "metadata": {},
     "output_type": "execute_result"
    }
   ],
   "source": [
    "cancer.keys()"
   ]
  },
  {
   "cell_type": "markdown",
   "metadata": {},
   "source": [
    "We can grab information and arrays out of this dictionary to set up our data frame and understanding of the features:"
   ]
  },
  {
   "cell_type": "code",
   "execution_count": 6,
   "metadata": {
    "collapsed": false
   },
   "outputs": [
    {
     "name": "stdout",
     "output_type": "stream",
     "text": [
      "Breast Cancer Wisconsin (Diagnostic) Database\n",
      "=============================================\n",
      "\n",
      "Notes\n",
      "-----\n",
      "Data Set Characteristics:\n",
      "    :Number of Instances: 569\n",
      "\n",
      "    :Number of Attributes: 30 numeric, predictive attributes and the class\n",
      "\n",
      "    :Attribute Information:\n",
      "        - radius (mean of distances from center to points on the perimeter)\n",
      "        - texture (standard deviation of gray-scale values)\n",
      "        - perimeter\n",
      "        - area\n",
      "        - smoothness (local variation in radius lengths)\n",
      "        - compactness (perimeter^2 / area - 1.0)\n",
      "        - concavity (severity of concave portions of the contour)\n",
      "        - concave points (number of concave portions of the contour)\n",
      "        - symmetry \n",
      "        - fractal dimension (\"coastline approximation\" - 1)\n",
      "\n",
      "        The mean, standard error, and \"worst\" or largest (mean of the three\n",
      "        largest values) of these features were computed for each image,\n",
      "        resulting in 30 features.  For instance, field 3 is Mean Radius, field\n",
      "        13 is Radius SE, field 23 is Worst Radius.\n",
      "\n",
      "        - class:\n",
      "                - WDBC-Malignant\n",
      "                - WDBC-Benign\n",
      "\n",
      "    :Summary Statistics:\n",
      "\n",
      "    ===================================== ====== ======\n",
      "                                           Min    Max\n",
      "    ===================================== ====== ======\n",
      "    radius (mean):                        6.981  28.11\n",
      "    texture (mean):                       9.71   39.28\n",
      "    perimeter (mean):                     43.79  188.5\n",
      "    area (mean):                          143.5  2501.0\n",
      "    smoothness (mean):                    0.053  0.163\n",
      "    compactness (mean):                   0.019  0.345\n",
      "    concavity (mean):                     0.0    0.427\n",
      "    concave points (mean):                0.0    0.201\n",
      "    symmetry (mean):                      0.106  0.304\n",
      "    fractal dimension (mean):             0.05   0.097\n",
      "    radius (standard error):              0.112  2.873\n",
      "    texture (standard error):             0.36   4.885\n",
      "    perimeter (standard error):           0.757  21.98\n",
      "    area (standard error):                6.802  542.2\n",
      "    smoothness (standard error):          0.002  0.031\n",
      "    compactness (standard error):         0.002  0.135\n",
      "    concavity (standard error):           0.0    0.396\n",
      "    concave points (standard error):      0.0    0.053\n",
      "    symmetry (standard error):            0.008  0.079\n",
      "    fractal dimension (standard error):   0.001  0.03\n",
      "    radius (worst):                       7.93   36.04\n",
      "    texture (worst):                      12.02  49.54\n",
      "    perimeter (worst):                    50.41  251.2\n",
      "    area (worst):                         185.2  4254.0\n",
      "    smoothness (worst):                   0.071  0.223\n",
      "    compactness (worst):                  0.027  1.058\n",
      "    concavity (worst):                    0.0    1.252\n",
      "    concave points (worst):               0.0    0.291\n",
      "    symmetry (worst):                     0.156  0.664\n",
      "    fractal dimension (worst):            0.055  0.208\n",
      "    ===================================== ====== ======\n",
      "\n",
      "    :Missing Attribute Values: None\n",
      "\n",
      "    :Class Distribution: 212 - Malignant, 357 - Benign\n",
      "\n",
      "    :Creator:  Dr. William H. Wolberg, W. Nick Street, Olvi L. Mangasarian\n",
      "\n",
      "    :Donor: Nick Street\n",
      "\n",
      "    :Date: November, 1995\n",
      "\n",
      "This is a copy of UCI ML Breast Cancer Wisconsin (Diagnostic) datasets.\n",
      "https://goo.gl/U2Uwz2\n",
      "\n",
      "Features are computed from a digitized image of a fine needle\n",
      "aspirate (FNA) of a breast mass.  They describe\n",
      "characteristics of the cell nuclei present in the image.\n",
      "\n",
      "Separating plane described above was obtained using\n",
      "Multisurface Method-Tree (MSM-T) [K. P. Bennett, \"Decision Tree\n",
      "Construction Via Linear Programming.\" Proceedings of the 4th\n",
      "Midwest Artificial Intelligence and Cognitive Science Society,\n",
      "pp. 97-101, 1992], a classification method which uses linear\n",
      "programming to construct a decision tree.  Relevant features\n",
      "were selected using an exhaustive search in the space of 1-4\n",
      "features and 1-3 separating planes.\n",
      "\n",
      "The actual linear program used to obtain the separating plane\n",
      "in the 3-dimensional space is that described in:\n",
      "[K. P. Bennett and O. L. Mangasarian: \"Robust Linear\n",
      "Programming Discrimination of Two Linearly Inseparable Sets\",\n",
      "Optimization Methods and Software 1, 1992, 23-34].\n",
      "\n",
      "This database is also available through the UW CS ftp server:\n",
      "\n",
      "ftp ftp.cs.wisc.edu\n",
      "cd math-prog/cpo-dataset/machine-learn/WDBC/\n",
      "\n",
      "References\n",
      "----------\n",
      "   - W.N. Street, W.H. Wolberg and O.L. Mangasarian. Nuclear feature extraction \n",
      "     for breast tumor diagnosis. IS&T/SPIE 1993 International Symposium on \n",
      "     Electronic Imaging: Science and Technology, volume 1905, pages 861-870,\n",
      "     San Jose, CA, 1993.\n",
      "   - O.L. Mangasarian, W.N. Street and W.H. Wolberg. Breast cancer diagnosis and \n",
      "     prognosis via linear programming. Operations Research, 43(4), pages 570-577, \n",
      "     July-August 1995.\n",
      "   - W.H. Wolberg, W.N. Street, and O.L. Mangasarian. Machine learning techniques\n",
      "     to diagnose breast cancer from fine-needle aspirates. Cancer Letters 77 (1994) \n",
      "     163-171.\n",
      "\n"
     ]
    }
   ],
   "source": [
    "print(cancer['DESCR'])"
   ]
  },
  {
   "cell_type": "code",
   "execution_count": 7,
   "metadata": {
    "collapsed": false
   },
   "outputs": [
    {
     "data": {
      "text/plain": [
       "array(['mean radius', 'mean texture', 'mean perimeter', 'mean area',\n",
       "       'mean smoothness', 'mean compactness', 'mean concavity',\n",
       "       'mean concave points', 'mean symmetry', 'mean fractal dimension',\n",
       "       'radius error', 'texture error', 'perimeter error', 'area error',\n",
       "       'smoothness error', 'compactness error', 'concavity error',\n",
       "       'concave points error', 'symmetry error', 'fractal dimension error',\n",
       "       'worst radius', 'worst texture', 'worst perimeter', 'worst area',\n",
       "       'worst smoothness', 'worst compactness', 'worst concavity',\n",
       "       'worst concave points', 'worst symmetry', 'worst fractal dimension'], \n",
       "      dtype='<U23')"
      ]
     },
     "execution_count": 7,
     "metadata": {},
     "output_type": "execute_result"
    }
   ],
   "source": [
    "cancer['feature_names']"
   ]
  },
  {
   "cell_type": "markdown",
   "metadata": {},
   "source": [
    "## Set up DataFrame"
   ]
  },
  {
   "cell_type": "code",
   "execution_count": 8,
   "metadata": {
    "collapsed": false
   },
   "outputs": [
    {
     "name": "stdout",
     "output_type": "stream",
     "text": [
      "<class 'pandas.core.frame.DataFrame'>\n",
      "RangeIndex: 569 entries, 0 to 568\n",
      "Data columns (total 30 columns):\n",
      "mean radius                569 non-null float64\n",
      "mean texture               569 non-null float64\n",
      "mean perimeter             569 non-null float64\n",
      "mean area                  569 non-null float64\n",
      "mean smoothness            569 non-null float64\n",
      "mean compactness           569 non-null float64\n",
      "mean concavity             569 non-null float64\n",
      "mean concave points        569 non-null float64\n",
      "mean symmetry              569 non-null float64\n",
      "mean fractal dimension     569 non-null float64\n",
      "radius error               569 non-null float64\n",
      "texture error              569 non-null float64\n",
      "perimeter error            569 non-null float64\n",
      "area error                 569 non-null float64\n",
      "smoothness error           569 non-null float64\n",
      "compactness error          569 non-null float64\n",
      "concavity error            569 non-null float64\n",
      "concave points error       569 non-null float64\n",
      "symmetry error             569 non-null float64\n",
      "fractal dimension error    569 non-null float64\n",
      "worst radius               569 non-null float64\n",
      "worst texture              569 non-null float64\n",
      "worst perimeter            569 non-null float64\n",
      "worst area                 569 non-null float64\n",
      "worst smoothness           569 non-null float64\n",
      "worst compactness          569 non-null float64\n",
      "worst concavity            569 non-null float64\n",
      "worst concave points       569 non-null float64\n",
      "worst symmetry             569 non-null float64\n",
      "worst fractal dimension    569 non-null float64\n",
      "dtypes: float64(30)\n",
      "memory usage: 133.4 KB\n"
     ]
    }
   ],
   "source": [
    "df_feat = pd.DataFrame(cancer['data'],columns=cancer['feature_names'])\n",
    "df_feat.info()"
   ]
  },
  {
   "cell_type": "code",
   "execution_count": 9,
   "metadata": {
    "collapsed": false
   },
   "outputs": [
    {
     "data": {
      "text/plain": [
       "array([0, 0, 0, 0, 0, 0, 0, 0, 0, 0, 0, 0, 0, 0, 0, 0, 0, 0, 0, 1, 1, 1, 0,\n",
       "       0, 0, 0, 0, 0, 0, 0, 0, 0, 0, 0, 0, 0, 0, 1, 0, 0, 0, 0, 0, 0, 0, 0,\n",
       "       1, 0, 1, 1, 1, 1, 1, 0, 0, 1, 0, 0, 1, 1, 1, 1, 0, 1, 0, 0, 1, 1, 1,\n",
       "       1, 0, 1, 0, 0, 1, 0, 1, 0, 0, 1, 1, 1, 0, 0, 1, 0, 0, 0, 1, 1, 1, 0,\n",
       "       1, 1, 0, 0, 1, 1, 1, 0, 0, 1, 1, 1, 1, 0, 1, 1, 0, 1, 1, 1, 1, 1, 1,\n",
       "       1, 1, 0, 0, 0, 1, 0, 0, 1, 1, 1, 0, 0, 1, 0, 1, 0, 0, 1, 0, 0, 1, 1,\n",
       "       0, 1, 1, 0, 1, 1, 1, 1, 0, 1, 1, 1, 1, 1, 1, 1, 1, 1, 0, 1, 1, 1, 1,\n",
       "       0, 0, 1, 0, 1, 1, 0, 0, 1, 1, 0, 0, 1, 1, 1, 1, 0, 1, 1, 0, 0, 0, 1,\n",
       "       0, 1, 0, 1, 1, 1, 0, 1, 1, 0, 0, 1, 0, 0, 0, 0, 1, 0, 0, 0, 1, 0, 1,\n",
       "       0, 1, 1, 0, 1, 0, 0, 0, 0, 1, 1, 0, 0, 1, 1, 1, 0, 1, 1, 1, 1, 1, 0,\n",
       "       0, 1, 1, 0, 1, 1, 0, 0, 1, 0, 1, 1, 1, 1, 0, 1, 1, 1, 1, 1, 0, 1, 0,\n",
       "       0, 0, 0, 0, 0, 0, 0, 0, 0, 0, 0, 0, 0, 1, 1, 1, 1, 1, 1, 0, 1, 0, 1,\n",
       "       1, 0, 1, 1, 0, 1, 0, 0, 1, 1, 1, 1, 1, 1, 1, 1, 1, 1, 1, 1, 1, 0, 1,\n",
       "       1, 0, 1, 0, 1, 1, 1, 1, 1, 1, 1, 1, 1, 1, 1, 1, 1, 1, 0, 1, 1, 1, 0,\n",
       "       1, 0, 1, 1, 1, 1, 0, 0, 0, 1, 1, 1, 1, 0, 1, 0, 1, 0, 1, 1, 1, 0, 1,\n",
       "       1, 1, 1, 1, 1, 1, 0, 0, 0, 1, 1, 1, 1, 1, 1, 1, 1, 1, 1, 1, 0, 0, 1,\n",
       "       0, 0, 0, 1, 0, 0, 1, 1, 1, 1, 1, 0, 1, 1, 1, 1, 1, 0, 1, 1, 1, 0, 1,\n",
       "       1, 0, 0, 1, 1, 1, 1, 1, 1, 0, 1, 1, 1, 1, 1, 1, 1, 0, 1, 1, 1, 1, 1,\n",
       "       0, 1, 1, 0, 1, 1, 1, 1, 1, 1, 1, 1, 1, 1, 1, 1, 0, 1, 0, 0, 1, 0, 1,\n",
       "       1, 1, 1, 1, 0, 1, 1, 0, 1, 0, 1, 1, 0, 1, 0, 1, 1, 1, 1, 1, 1, 1, 1,\n",
       "       0, 0, 1, 1, 1, 1, 1, 1, 0, 1, 1, 1, 1, 1, 1, 1, 1, 1, 1, 0, 1, 1, 1,\n",
       "       1, 1, 1, 1, 0, 1, 0, 1, 1, 0, 1, 1, 1, 1, 1, 0, 0, 1, 0, 1, 0, 1, 1,\n",
       "       1, 1, 1, 0, 1, 1, 0, 1, 0, 1, 0, 0, 1, 1, 1, 0, 1, 1, 1, 1, 1, 1, 1,\n",
       "       1, 1, 1, 1, 0, 1, 0, 0, 1, 1, 1, 1, 1, 1, 1, 1, 1, 1, 1, 1, 1, 1, 1,\n",
       "       1, 1, 1, 1, 1, 1, 1, 1, 1, 1, 0, 0, 0, 0, 0, 0, 1])"
      ]
     },
     "execution_count": 9,
     "metadata": {},
     "output_type": "execute_result"
    }
   ],
   "source": [
    "cancer['target']"
   ]
  },
  {
   "cell_type": "code",
   "execution_count": 10,
   "metadata": {
    "collapsed": false
   },
   "outputs": [],
   "source": [
    "df_target = pd.DataFrame(cancer['target'],columns=['Cancer'])"
   ]
  },
  {
   "cell_type": "markdown",
   "metadata": {},
   "source": [
    "Now let's actually check out the dataframe!"
   ]
  },
  {
   "cell_type": "code",
   "execution_count": 11,
   "metadata": {
    "collapsed": false
   },
   "outputs": [
    {
     "ename": "NameError",
     "evalue": "name 'df' is not defined",
     "output_type": "error",
     "traceback": [
      "\u001b[1;31m---------------------------------------------------------------------------\u001b[0m",
      "\u001b[1;31mNameError\u001b[0m                                 Traceback (most recent call last)",
      "\u001b[1;32m<ipython-input-11-c42a15b2c7cf>\u001b[0m in \u001b[0;36m<module>\u001b[1;34m()\u001b[0m\n\u001b[1;32m----> 1\u001b[1;33m \u001b[0mdf\u001b[0m\u001b[1;33m.\u001b[0m\u001b[0mhead\u001b[0m\u001b[1;33m(\u001b[0m\u001b[1;33m)\u001b[0m\u001b[1;33m\u001b[0m\u001b[0m\n\u001b[0m",
      "\u001b[1;31mNameError\u001b[0m: name 'df' is not defined"
     ]
    }
   ],
   "source": [
    "df.head()"
   ]
  },
  {
   "cell_type": "markdown",
   "metadata": {},
   "source": [
    "## Train Test Split"
   ]
  },
  {
   "cell_type": "code",
   "execution_count": 12,
   "metadata": {
    "collapsed": true
   },
   "outputs": [],
   "source": [
    "from sklearn.model_selection import train_test_split"
   ]
  },
  {
   "cell_type": "code",
   "execution_count": 13,
   "metadata": {
    "collapsed": false
   },
   "outputs": [],
   "source": [
    "X_train, X_test, y_train, y_test = train_test_split(df_feat, np.ravel(df_target), test_size=0.30, random_state=101)"
   ]
  },
  {
   "cell_type": "markdown",
   "metadata": {},
   "source": [
    "# Train the Support Vector Classifier"
   ]
  },
  {
   "cell_type": "code",
   "execution_count": 14,
   "metadata": {
    "collapsed": true
   },
   "outputs": [],
   "source": [
    "from sklearn.svm import SVC"
   ]
  },
  {
   "cell_type": "code",
   "execution_count": 15,
   "metadata": {
    "collapsed": true
   },
   "outputs": [],
   "source": [
    "model = SVC()"
   ]
  },
  {
   "cell_type": "markdown",
   "metadata": {},
   "source": [
    "You can either use this model to fit and predict directly.\n",
    "But this doesn't guarantee you the best results.\n",
    "\n",
    "So we perform a Grid Search to find the optimal parameters to get an accurate result."
   ]
  },
  {
   "cell_type": "markdown",
   "metadata": {},
   "source": [
    "## Predictions and Evaluations\n",
    "\n",
    "Now let's predict using the trained model."
   ]
  },
  {
   "cell_type": "markdown",
   "metadata": {},
   "source": [
    "# Gridsearch\n",
    "\n",
    "Finding the right parameters (like what C or gamma values to use) is a tricky task! But luckily, we can be a little lazy and just try a bunch of combinations and see what works best! This idea of creating a 'grid' of parameters and just trying out all the possible combinations is called a Gridsearch, this method is common enough that Scikit-learn has this functionality built in with GridSearchCV! The CV stands for cross-validation which is the\n",
    "\n",
    "GridSearchCV takes a dictionary that describes the parameters that should be tried and a model to train. The grid of parameters is defined as a dictionary, where the keys are the parameters and the values are the settings to be tested. "
   ]
  },
  {
   "cell_type": "code",
   "execution_count": 16,
   "metadata": {
    "collapsed": true
   },
   "outputs": [],
   "source": [
    "# C is penalization, large C gives a low bias and high variance and vice versa for low C\n",
    "# gamma -> small = gaussian with a large variance -> and vice versa for a large gamma\n",
    "# rbf -> radial basis function\n",
    "param_grid = {'C': [0.1,1, 10, 100, 1000], 'gamma': [1,0.1,0.01,0.001,0.0001], 'kernel': ['rbf']} "
   ]
  },
  {
   "cell_type": "code",
   "execution_count": 17,
   "metadata": {
    "collapsed": true
   },
   "outputs": [],
   "source": [
    "from sklearn.model_selection import GridSearchCV"
   ]
  },
  {
   "cell_type": "markdown",
   "metadata": {},
   "source": [
    "One of the great things about GridSearchCV is that it is a meta-estimator. It takes an estimator like SVC, and creates a new estimator, that behaves exactly the same - in this case, like a classifier. You should add refit=True and choose verbose to whatever number you want, higher the number, the more verbose (verbose just means the text output describing the process)."
   ]
  },
  {
   "cell_type": "code",
   "execution_count": 18,
   "metadata": {
    "collapsed": true
   },
   "outputs": [],
   "source": [
    "grid = GridSearchCV(SVC(),param_grid,refit=True,verbose=3)"
   ]
  },
  {
   "cell_type": "markdown",
   "metadata": {},
   "source": [
    "What fit does is a bit more involved then usual. First, it runs the same loop with cross-validation, to find the best parameter combination. Once it has the best combination, it runs fit again on all data passed to fit (without cross-validation), to built a single new model using the best parameter setting."
   ]
  },
  {
   "cell_type": "code",
   "execution_count": 19,
   "metadata": {
    "collapsed": false
   },
   "outputs": [
    {
     "name": "stdout",
     "output_type": "stream",
     "text": [
      "Fitting 3 folds for each of 25 candidates, totalling 75 fits\n",
      "[CV] C=0.1, kernel=rbf, gamma=1 ......................................\n",
      "[CV]  C=0.1, kernel=rbf, gamma=1, score=0.631578947368421, total=   0.0s\n",
      "[CV] C=0.1, kernel=rbf, gamma=1 ......................................\n",
      "[CV]  C=0.1, kernel=rbf, gamma=1, score=0.631578947368421, total=   0.0s\n",
      "[CV] C=0.1, kernel=rbf, gamma=1 ......................................\n"
     ]
    },
    {
     "name": "stderr",
     "output_type": "stream",
     "text": [
      "[Parallel(n_jobs=1)]: Done   1 out of   1 | elapsed:    0.0s remaining:    0.0s\n",
      "[Parallel(n_jobs=1)]: Done   2 out of   2 | elapsed:    0.1s remaining:    0.0s\n"
     ]
    },
    {
     "name": "stdout",
     "output_type": "stream",
     "text": [
      "[CV]  C=0.1, kernel=rbf, gamma=1, score=0.6363636363636364, total=   0.0s\n",
      "[CV] C=0.1, kernel=rbf, gamma=0.1 ....................................\n",
      "[CV]  C=0.1, kernel=rbf, gamma=0.1, score=0.631578947368421, total=   0.0s\n",
      "[CV] C=0.1, kernel=rbf, gamma=0.1 ....................................\n",
      "[CV]  C=0.1, kernel=rbf, gamma=0.1, score=0.631578947368421, total=   0.0s\n",
      "[CV] C=0.1, kernel=rbf, gamma=0.1 ....................................\n",
      "[CV]  C=0.1, kernel=rbf, gamma=0.1, score=0.6363636363636364, total=   0.0s\n",
      "[CV] C=0.1, kernel=rbf, gamma=0.01 ...................................\n",
      "[CV]  C=0.1, kernel=rbf, gamma=0.01, score=0.631578947368421, total=   0.0s\n",
      "[CV] C=0.1, kernel=rbf, gamma=0.01 ...................................\n",
      "[CV]  C=0.1, kernel=rbf, gamma=0.01, score=0.631578947368421, total=   0.0s\n",
      "[CV] C=0.1, kernel=rbf, gamma=0.01 ...................................\n",
      "[CV]  C=0.1, kernel=rbf, gamma=0.01, score=0.6363636363636364, total=   0.0s\n",
      "[CV] C=0.1, kernel=rbf, gamma=0.001 ..................................\n",
      "[CV]  C=0.1, kernel=rbf, gamma=0.001, score=0.631578947368421, total=   0.0s\n",
      "[CV] C=0.1, kernel=rbf, gamma=0.001 ..................................\n",
      "[CV]  C=0.1, kernel=rbf, gamma=0.001, score=0.631578947368421, total=   0.0s\n",
      "[CV] C=0.1, kernel=rbf, gamma=0.001 ..................................\n",
      "[CV]  C=0.1, kernel=rbf, gamma=0.001, score=0.6363636363636364, total=   0.0s\n",
      "[CV] C=0.1, kernel=rbf, gamma=0.0001 .................................\n",
      "[CV]  C=0.1, kernel=rbf, gamma=0.0001, score=0.9022556390977443, total=   0.0s\n",
      "[CV] C=0.1, kernel=rbf, gamma=0.0001 .................................\n",
      "[CV]  C=0.1, kernel=rbf, gamma=0.0001, score=0.9624060150375939, total=   0.0s\n",
      "[CV] C=0.1, kernel=rbf, gamma=0.0001 .................................\n",
      "[CV]  C=0.1, kernel=rbf, gamma=0.0001, score=0.9166666666666666, total=   0.0s\n",
      "[CV] C=1, kernel=rbf, gamma=1 ........................................\n",
      "[CV]  C=1, kernel=rbf, gamma=1, score=0.631578947368421, total=   0.0s\n",
      "[CV] C=1, kernel=rbf, gamma=1 ........................................\n",
      "[CV]  C=1, kernel=rbf, gamma=1, score=0.631578947368421, total=   0.0s\n",
      "[CV] C=1, kernel=rbf, gamma=1 ........................................\n",
      "[CV]  C=1, kernel=rbf, gamma=1, score=0.6363636363636364, total=   0.0s\n",
      "[CV] C=1, kernel=rbf, gamma=0.1 ......................................\n",
      "[CV]  C=1, kernel=rbf, gamma=0.1, score=0.631578947368421, total=   0.0s\n",
      "[CV] C=1, kernel=rbf, gamma=0.1 ......................................\n",
      "[CV]  C=1, kernel=rbf, gamma=0.1, score=0.631578947368421, total=   0.0s\n",
      "[CV] C=1, kernel=rbf, gamma=0.1 ......................................\n",
      "[CV]  C=1, kernel=rbf, gamma=0.1, score=0.6363636363636364, total=   0.0s\n",
      "[CV] C=1, kernel=rbf, gamma=0.01 .....................................\n",
      "[CV]  C=1, kernel=rbf, gamma=0.01, score=0.631578947368421, total=   0.0s\n",
      "[CV] C=1, kernel=rbf, gamma=0.01 .....................................\n",
      "[CV]  C=1, kernel=rbf, gamma=0.01, score=0.631578947368421, total=   0.0s\n",
      "[CV] C=1, kernel=rbf, gamma=0.01 .....................................\n",
      "[CV]  C=1, kernel=rbf, gamma=0.01, score=0.6363636363636364, total=   0.0s\n",
      "[CV] C=1, kernel=rbf, gamma=0.001 ....................................\n",
      "[CV]  C=1, kernel=rbf, gamma=0.001, score=0.9022556390977443, total=   0.0s\n",
      "[CV] C=1, kernel=rbf, gamma=0.001 ....................................\n",
      "[CV]  C=1, kernel=rbf, gamma=0.001, score=0.9398496240601504, total=   0.0s\n",
      "[CV] C=1, kernel=rbf, gamma=0.001 ....................................\n",
      "[CV]  C=1, kernel=rbf, gamma=0.001, score=0.9545454545454546, total=   0.0s\n",
      "[CV] C=1, kernel=rbf, gamma=0.0001 ...................................\n",
      "[CV]  C=1, kernel=rbf, gamma=0.0001, score=0.9398496240601504, total=   0.0s\n",
      "[CV] C=1, kernel=rbf, gamma=0.0001 ...................................\n",
      "[CV]  C=1, kernel=rbf, gamma=0.0001, score=0.9699248120300752, total=   0.0s\n",
      "[CV] C=1, kernel=rbf, gamma=0.0001 ...................................\n",
      "[CV]  C=1, kernel=rbf, gamma=0.0001, score=0.946969696969697, total=   0.0s\n",
      "[CV] C=10, kernel=rbf, gamma=1 .......................................\n",
      "[CV]  C=10, kernel=rbf, gamma=1, score=0.631578947368421, total=   0.0s\n",
      "[CV] C=10, kernel=rbf, gamma=1 .......................................\n",
      "[CV]  C=10, kernel=rbf, gamma=1, score=0.631578947368421, total=   0.0s\n",
      "[CV] C=10, kernel=rbf, gamma=1 .......................................\n",
      "[CV]  C=10, kernel=rbf, gamma=1, score=0.6363636363636364, total=   0.0s\n",
      "[CV] C=10, kernel=rbf, gamma=0.1 .....................................\n",
      "[CV]  C=10, kernel=rbf, gamma=0.1, score=0.631578947368421, total=   0.0s\n",
      "[CV] C=10, kernel=rbf, gamma=0.1 .....................................\n",
      "[CV]  C=10, kernel=rbf, gamma=0.1, score=0.631578947368421, total=   0.0s\n",
      "[CV] C=10, kernel=rbf, gamma=0.1 .....................................\n",
      "[CV]  C=10, kernel=rbf, gamma=0.1, score=0.6363636363636364, total=   0.0s\n",
      "[CV] C=10, kernel=rbf, gamma=0.01 ....................................\n",
      "[CV]  C=10, kernel=rbf, gamma=0.01, score=0.631578947368421, total=   0.0s\n",
      "[CV] C=10, kernel=rbf, gamma=0.01 ....................................\n",
      "[CV]  C=10, kernel=rbf, gamma=0.01, score=0.631578947368421, total=   0.0s\n",
      "[CV] C=10, kernel=rbf, gamma=0.01 ....................................\n",
      "[CV]  C=10, kernel=rbf, gamma=0.01, score=0.6363636363636364, total=   0.0s\n",
      "[CV] C=10, kernel=rbf, gamma=0.001 ...................................\n",
      "[CV]  C=10, kernel=rbf, gamma=0.001, score=0.8947368421052632, total=   0.0s\n",
      "[CV] C=10, kernel=rbf, gamma=0.001 ...................................\n",
      "[CV]  C=10, kernel=rbf, gamma=0.001, score=0.9323308270676691, total=   0.0s\n",
      "[CV] C=10, kernel=rbf, gamma=0.001 ...................................\n",
      "[CV]  C=10, kernel=rbf, gamma=0.001, score=0.9166666666666666, total=   0.0s\n",
      "[CV] C=10, kernel=rbf, gamma=0.0001 ..................................\n",
      "[CV]  C=10, kernel=rbf, gamma=0.0001, score=0.9323308270676691, total=   0.0s\n",
      "[CV] C=10, kernel=rbf, gamma=0.0001 ..................................\n",
      "[CV]  C=10, kernel=rbf, gamma=0.0001, score=0.9699248120300752, total=   0.0s\n",
      "[CV] C=10, kernel=rbf, gamma=0.0001 ..................................\n",
      "[CV]  C=10, kernel=rbf, gamma=0.0001, score=0.9621212121212122, total=   0.0s\n",
      "[CV] C=100, kernel=rbf, gamma=1 ......................................\n",
      "[CV]  C=100, kernel=rbf, gamma=1, score=0.631578947368421, total=   0.0s\n",
      "[CV] C=100, kernel=rbf, gamma=1 ......................................\n",
      "[CV]  C=100, kernel=rbf, gamma=1, score=0.631578947368421, total=   0.0s\n",
      "[CV] C=100, kernel=rbf, gamma=1 ......................................\n",
      "[CV]  C=100, kernel=rbf, gamma=1, score=0.6363636363636364, total=   0.0s\n",
      "[CV] C=100, kernel=rbf, gamma=0.1 ....................................\n",
      "[CV]  C=100, kernel=rbf, gamma=0.1, score=0.631578947368421, total=   0.0s\n",
      "[CV] C=100, kernel=rbf, gamma=0.1 ....................................\n",
      "[CV]  C=100, kernel=rbf, gamma=0.1, score=0.631578947368421, total=   0.0s\n",
      "[CV] C=100, kernel=rbf, gamma=0.1 ....................................\n",
      "[CV]  C=100, kernel=rbf, gamma=0.1, score=0.6363636363636364, total=   0.0s\n",
      "[CV] C=100, kernel=rbf, gamma=0.01 ...................................\n",
      "[CV]  C=100, kernel=rbf, gamma=0.01, score=0.631578947368421, total=   0.0s\n",
      "[CV] C=100, kernel=rbf, gamma=0.01 ...................................\n",
      "[CV]  C=100, kernel=rbf, gamma=0.01, score=0.631578947368421, total=   0.0s\n",
      "[CV] C=100, kernel=rbf, gamma=0.01 ...................................\n",
      "[CV]  C=100, kernel=rbf, gamma=0.01, score=0.6363636363636364, total=   0.0s\n",
      "[CV] C=100, kernel=rbf, gamma=0.001 ..................................\n",
      "[CV]  C=100, kernel=rbf, gamma=0.001, score=0.8947368421052632, total=   0.0s\n",
      "[CV] C=100, kernel=rbf, gamma=0.001 ..................................\n",
      "[CV]  C=100, kernel=rbf, gamma=0.001, score=0.9323308270676691, total=   0.0s\n",
      "[CV] C=100, kernel=rbf, gamma=0.001 ..................................\n",
      "[CV]  C=100, kernel=rbf, gamma=0.001, score=0.9166666666666666, total=   0.0s\n",
      "[CV] C=100, kernel=rbf, gamma=0.0001 .................................\n",
      "[CV]  C=100, kernel=rbf, gamma=0.0001, score=0.9172932330827067, total=   0.0s\n",
      "[CV] C=100, kernel=rbf, gamma=0.0001 .................................\n",
      "[CV]  C=100, kernel=rbf, gamma=0.0001, score=0.9774436090225563, total=   0.0s\n",
      "[CV] C=100, kernel=rbf, gamma=0.0001 .................................\n",
      "[CV]  C=100, kernel=rbf, gamma=0.0001, score=0.9393939393939394, total=   0.0s\n",
      "[CV] C=1000, kernel=rbf, gamma=1 .....................................\n",
      "[CV]  C=1000, kernel=rbf, gamma=1, score=0.631578947368421, total=   0.0s\n",
      "[CV] C=1000, kernel=rbf, gamma=1 .....................................\n",
      "[CV]  C=1000, kernel=rbf, gamma=1, score=0.631578947368421, total=   0.0s\n",
      "[CV] C=1000, kernel=rbf, gamma=1 .....................................\n",
      "[CV]  C=1000, kernel=rbf, gamma=1, score=0.6363636363636364, total=   0.0s\n",
      "[CV] C=1000, kernel=rbf, gamma=0.1 ...................................\n",
      "[CV]  C=1000, kernel=rbf, gamma=0.1, score=0.631578947368421, total=   0.0s\n",
      "[CV] C=1000, kernel=rbf, gamma=0.1 ...................................\n",
      "[CV]  C=1000, kernel=rbf, gamma=0.1, score=0.631578947368421, total=   0.0s\n",
      "[CV] C=1000, kernel=rbf, gamma=0.1 ...................................\n",
      "[CV]  C=1000, kernel=rbf, gamma=0.1, score=0.6363636363636364, total=   0.0s\n",
      "[CV] C=1000, kernel=rbf, gamma=0.01 ..................................\n",
      "[CV]  C=1000, kernel=rbf, gamma=0.01, score=0.631578947368421, total=   0.0s\n",
      "[CV] C=1000, kernel=rbf, gamma=0.01 ..................................\n",
      "[CV]  C=1000, kernel=rbf, gamma=0.01, score=0.631578947368421, total=   0.0s\n",
      "[CV] C=1000, kernel=rbf, gamma=0.01 ..................................\n",
      "[CV]  C=1000, kernel=rbf, gamma=0.01, score=0.6363636363636364, total=   0.0s\n",
      "[CV] C=1000, kernel=rbf, gamma=0.001 .................................\n",
      "[CV]  C=1000, kernel=rbf, gamma=0.001, score=0.8947368421052632, total=   0.0s\n",
      "[CV] C=1000, kernel=rbf, gamma=0.001 .................................\n",
      "[CV]  C=1000, kernel=rbf, gamma=0.001, score=0.9323308270676691, total=   0.0s\n",
      "[CV] C=1000, kernel=rbf, gamma=0.001 .................................\n",
      "[CV]  C=1000, kernel=rbf, gamma=0.001, score=0.9166666666666666, total=   0.0s\n",
      "[CV] C=1000, kernel=rbf, gamma=0.0001 ................................\n",
      "[CV]  C=1000, kernel=rbf, gamma=0.0001, score=0.9097744360902256, total=   0.0s\n",
      "[CV] C=1000, kernel=rbf, gamma=0.0001 ................................\n",
      "[CV]  C=1000, kernel=rbf, gamma=0.0001, score=0.9699248120300752, total=   0.0s\n",
      "[CV] C=1000, kernel=rbf, gamma=0.0001 ................................\n",
      "[CV]  C=1000, kernel=rbf, gamma=0.0001, score=0.9318181818181818, total=   0.0s\n"
     ]
    },
    {
     "name": "stderr",
     "output_type": "stream",
     "text": [
      "[Parallel(n_jobs=1)]: Done  75 out of  75 | elapsed:    2.9s finished\n"
     ]
    },
    {
     "data": {
      "text/plain": [
       "GridSearchCV(cv=None, error_score='raise',\n",
       "       estimator=SVC(C=1.0, cache_size=200, class_weight=None, coef0=0.0,\n",
       "  decision_function_shape='ovr', degree=3, gamma='auto', kernel='rbf',\n",
       "  max_iter=-1, probability=False, random_state=None, shrinking=True,\n",
       "  tol=0.001, verbose=False),\n",
       "       fit_params=None, iid=True, n_jobs=1,\n",
       "       param_grid={'C': [0.1, 1, 10, 100, 1000], 'kernel': ['rbf'], 'gamma': [1, 0.1, 0.01, 0.001, 0.0001]},\n",
       "       pre_dispatch='2*n_jobs', refit=True, return_train_score='warn',\n",
       "       scoring=None, verbose=3)"
      ]
     },
     "execution_count": 19,
     "metadata": {},
     "output_type": "execute_result"
    }
   ],
   "source": [
    "# May take awhile!\n",
    "grid.fit(X_train,y_train)"
   ]
  },
  {
   "cell_type": "markdown",
   "metadata": {},
   "source": [
    "You can inspect the best parameters found by GridSearchCV in the best_params_ attribute, and the best estimator in the best\\_estimator_ attribute:"
   ]
  },
  {
   "cell_type": "code",
   "execution_count": 20,
   "metadata": {
    "collapsed": false
   },
   "outputs": [
    {
     "data": {
      "text/plain": [
       "{'C': 10, 'gamma': 0.0001, 'kernel': 'rbf'}"
      ]
     },
     "execution_count": 20,
     "metadata": {},
     "output_type": "execute_result"
    }
   ],
   "source": [
    "grid.best_params_"
   ]
  },
  {
   "cell_type": "code",
   "execution_count": 21,
   "metadata": {
    "collapsed": false
   },
   "outputs": [
    {
     "data": {
      "text/plain": [
       "SVC(C=10, cache_size=200, class_weight=None, coef0=0.0,\n",
       "  decision_function_shape='ovr', degree=3, gamma=0.0001, kernel='rbf',\n",
       "  max_iter=-1, probability=False, random_state=None, shrinking=True,\n",
       "  tol=0.001, verbose=False)"
      ]
     },
     "execution_count": 21,
     "metadata": {},
     "output_type": "execute_result"
    }
   ],
   "source": [
    "grid.best_estimator_"
   ]
  },
  {
   "cell_type": "markdown",
   "metadata": {},
   "source": [
    "Then you can re-run predictions on this grid object just like you would with a normal model."
   ]
  },
  {
   "cell_type": "code",
   "execution_count": 24,
   "metadata": {
    "collapsed": false
   },
   "outputs": [],
   "source": [
    "grid_predictions = grid.predict(X_test)"
   ]
  },
  {
   "cell_type": "code",
   "execution_count": 27,
   "metadata": {
    "collapsed": true
   },
   "outputs": [],
   "source": [
    "from sklearn.metrics import (confusion_matrix, classification_report)"
   ]
  },
  {
   "cell_type": "code",
   "execution_count": 28,
   "metadata": {
    "collapsed": false
   },
   "outputs": [
    {
     "name": "stdout",
     "output_type": "stream",
     "text": [
      "[[ 60   6]\n",
      " [  3 102]]\n"
     ]
    }
   ],
   "source": [
    "print(confusion_matrix(y_test,grid_predictions))"
   ]
  },
  {
   "cell_type": "code",
   "execution_count": 29,
   "metadata": {
    "collapsed": false
   },
   "outputs": [
    {
     "name": "stdout",
     "output_type": "stream",
     "text": [
      "             precision    recall  f1-score   support\n",
      "\n",
      "          0       0.95      0.91      0.93        66\n",
      "          1       0.94      0.97      0.96       105\n",
      "\n",
      "avg / total       0.95      0.95      0.95       171\n",
      "\n"
     ]
    }
   ],
   "source": [
    "print(classification_report(y_test,grid_predictions))"
   ]
  }
 ],
 "metadata": {
  "anaconda-cloud": {},
  "kernelspec": {
   "display_name": "Python [default]",
   "language": "python",
   "name": "python3"
  },
  "language_info": {
   "codemirror_mode": {
    "name": "ipython",
    "version": 3
   },
   "file_extension": ".py",
   "mimetype": "text/x-python",
   "name": "python",
   "nbconvert_exporter": "python",
   "pygments_lexer": "ipython3",
   "version": "3.5.4"
  }
 },
 "nbformat": 4,
 "nbformat_minor": 0
}
